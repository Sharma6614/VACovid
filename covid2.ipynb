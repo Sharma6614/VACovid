{
 "metadata": {
  "language_info": {
   "codemirror_mode": {
    "name": "ipython",
    "version": 3
   },
   "file_extension": ".py",
   "mimetype": "text/x-python",
   "name": "python",
   "nbconvert_exporter": "python",
   "pygments_lexer": "ipython3",
   "version": "3.9.4"
  },
  "orig_nbformat": 2,
  "kernelspec": {
   "name": "python394jvsc74a57bd0d4f44ef4f34e13e12ea4b7fd4eccbf716694852eb11de3b95d3a9e54029f8671",
   "display_name": "Python 3.9.4 64-bit ('3.9.4': pyenv)"
  },
  "metadata": {
   "interpreter": {
    "hash": "d4f44ef4f34e13e12ea4b7fd4eccbf716694852eb11de3b95d3a9e54029f8671"
   }
  }
 },
 "nbformat": 4,
 "nbformat_minor": 2,
 "cells": [
  {
   "cell_type": "code",
   "execution_count": 3,
   "metadata": {},
   "outputs": [],
   "source": [
    "import pandas as pd \n",
    "import numpy as np\n",
    "import requests\n",
    "import datetime"
   ]
  },
  {
   "cell_type": "code",
   "execution_count": 5,
   "metadata": {},
   "outputs": [],
   "source": [
    "def stateNames(stateAbbreviation):\n",
    "    states = {\n",
    "            'AK': 'Alaska',\n",
    "            'AL': 'Alabama',\n",
    "            'AR': 'Arkansas',\n",
    "            'AS': 'American Samoa',\n",
    "            'AZ': 'Arizona',\n",
    "            'CA': 'California',\n",
    "            'CO': 'Colorado',\n",
    "            'CT': 'Connecticut',\n",
    "            'DC': 'District of Columbia',\n",
    "            'DE': 'Delaware',\n",
    "            'FL': 'Florida',\n",
    "            'GA': 'Georgia',\n",
    "            'GU': 'Guam',\n",
    "            'HI': 'Hawaii',\n",
    "            'IA': 'Iowa',\n",
    "            'ID': 'Idaho',\n",
    "            'IL': 'Illinois',\n",
    "            'IN': 'Indiana',\n",
    "            'KS': 'Kansas',\n",
    "            'KY': 'Kentucky',\n",
    "            'LA': 'Louisiana',\n",
    "            'MA': 'Massachusetts',\n",
    "            'MD': 'Maryland',\n",
    "            'ME': 'Maine',\n",
    "            'MI': 'Michigan',\n",
    "            'MN': 'Minnesota',\n",
    "            'MO': 'Missouri',\n",
    "            'MP': 'Northern Mariana Islands',\n",
    "            'MS': 'Mississippi',\n",
    "            'MT': 'Montana',\n",
    "            'NA': 'National',\n",
    "            'NC': 'North Carolina',\n",
    "            'ND': 'North Dakota',\n",
    "            'NE': 'Nebraska',\n",
    "            'NH': 'New Hampshire',\n",
    "            'NJ': 'New Jersey',\n",
    "            'NM': 'New Mexico',\n",
    "            'NV': 'Nevada',\n",
    "            'NY': 'New York',\n",
    "            'OH': 'Ohio',\n",
    "            'OK': 'Oklahoma',\n",
    "            'OR': 'Oregon',\n",
    "            'PA': 'Pennsylvania',\n",
    "            'PR': 'Puerto Rico',\n",
    "            'RI': 'Rhode Island',\n",
    "            'SC': 'South Carolina',\n",
    "            'SD': 'South Dakota',\n",
    "            'TN': 'Tennessee',\n",
    "            'TX': 'Texas',\n",
    "            'UT': 'Utah',\n",
    "            'VA': 'Virginia',\n",
    "            'VI': 'Virgin Islands',\n",
    "            'VT': 'Vermont',\n",
    "            'WA': 'Washington',\n",
    "            'WI': 'Wisconsin',\n",
    "            'WV': 'West Virginia',\n",
    "            'WY': 'Wyoming'\n",
    "    }\n",
    "    if stateAbbreviation is not None:\n",
    "        if stateAbbreviation in states:\n",
    "            return states[stateAbbreviation]\n",
    "        else:\n",
    "            return None\n",
    "    else:\n",
    "        return None"
   ]
  },
  {
   "cell_type": "code",
   "execution_count": 3,
   "metadata": {},
   "outputs": [
    {
     "output_type": "stream",
     "name": "stdout",
     "text": [
      "        FIPS    COUNTY    STATE AGEGROUP         VETS\n0      01001   Autauga  Alabama    17-44  1355.750242\n1      01001   Autauga  Alabama    45-64  2237.755474\n2      01001   Autauga  Alabama    65-84  1821.970552\n3      01001   Autauga  Alabama      85+   287.713197\n4      01003   Baldwin  Alabama    17-44  2936.527243\n...      ...       ...      ...      ...          ...\n12563  56043  Washakie  Wyoming      85+    37.780506\n12564  56045    Weston  Wyoming    17-44   112.840273\n12565  56045    Weston  Wyoming    45-64   160.579994\n12566  56045    Weston  Wyoming    65-84   263.074304\n12567  56045    Weston  Wyoming      85+    12.554431\n\n[12568 rows x 5 columns]\n"
     ]
    }
   ],
   "source": [
    "#Veteran Population Projection Estimates by County (Estimates span several decades; 2021 is selected out below)\n",
    "veterans = pd.read_csv('https://raw.githubusercontent.com/trebbag/VACovid/main/VetPop2018_County_Data__9L.csv',dtype={'FIPS':'str'})\n",
    "\n",
    "veterans['Date'] = pd.to_datetime(veterans['Date'])\n",
    "veterans2021 = veterans[veterans['Date'] == '2021-09-30'].reset_index(drop=True)\n",
    "veterans2021['County'] = veterans2021['County, St'].str.split(',').str[0]\n",
    "\n",
    "#Remove unneeded columns as well as Gender and then sum to remove Gender split of data\n",
    "veterans2021 = veterans2021.drop(['County, St', 'Date', 'Gender'],axis=1)\n",
    "veterans2021 = (veterans2021.groupby(['FIPS','Age Group','County'], sort=False, as_index=False)\n",
    "                    .agg({'Veterans':'sum', 'State':'first'})\n",
    "                    .reindex(columns=veterans2021.columns)) \n",
    "\n",
    "#Remove non-CONUS areas, reorder columns, and change column names for consistency\n",
    "veterans2021.drop(veterans2021[veterans2021['State'] == 'Island Areas & Foreign'].index, inplace=True)\n",
    "veterans2021.drop(veterans2021[veterans2021['State'] == 'Puerto Rico'].index, inplace=True)\n",
    "veterans2021.loc[(veterans2021.FIPS == '11001'),'State'] = 'District of Columbia'\n",
    "veterans2021 = veterans2021[['FIPS','County','State','Age Group','Veterans']]\n",
    "veterans2021 = veterans2021.rename(columns={'County':'COUNTY','Age Group':'AGEGROUP','State':'STATE','Veterans':'VETS'})\n",
    "\n",
    "with pd.option_context('display.expand_frame_repr', False): \n",
    "    print(veterans2021)"
   ]
  },
  {
   "cell_type": "code",
   "execution_count": 4,
   "metadata": {},
   "outputs": [
    {
     "output_type": "stream",
     "name": "stdout",
     "text": [
      "       FIPS      COUNTY    STATE          VETS\n0     01001     Autauga  Alabama   5703.189466\n1     01003     Baldwin  Alabama  19665.803702\n2     01005     Barbour  Alabama   1848.845078\n3     01007        Bibb  Alabama   1264.859815\n4     01009      Blount  Alabama   3703.698806\n...     ...         ...      ...           ...\n3137  56037  Sweetwater  Wyoming   3161.770380\n3138  56039       Teton  Wyoming   1093.840038\n3139  56041       Uinta  Wyoming   1218.901127\n3140  56043    Washakie  Wyoming    621.987939\n3141  56045      Weston  Wyoming    549.049003\n\n[3142 rows x 4 columns]\n"
     ]
    }
   ],
   "source": [
    "#Create a dataframe without age column to get total counts of veterans by county\n",
    "POPveterans2021 = veterans2021.drop(['AGEGROUP'],axis=1)\n",
    "\n",
    "POPveterans2021 = (POPveterans2021.groupby(['FIPS','COUNTY'], sort=False, as_index=False)\n",
    "                    .agg({'VETS':'sum', 'STATE':'first'})\n",
    "                    .reindex(columns=POPveterans2021.columns))\n",
    "\n",
    "with pd.option_context('display.expand_frame_repr', False): \n",
    "    print(POPveterans2021)"
   ]
  },
  {
   "cell_type": "code",
   "execution_count": 5,
   "metadata": {},
   "outputs": [
    {
     "output_type": "execute_result",
     "data": {
      "text/plain": [
       "    FIPS   COUNTY    STATE  AGEGROUP      POP\n",
       "0  01001  Autauga  Alabama         0  55869.0\n",
       "1  01001  Autauga  Alabama         1   3277.0\n",
       "2  01001  Autauga  Alabama         2   3465.0\n",
       "3  01001  Autauga  Alabama         3   3851.0\n",
       "4  01001  Autauga  Alabama         4   3659.0"
      ],
      "text/html": "<div>\n<style scoped>\n    .dataframe tbody tr th:only-of-type {\n        vertical-align: middle;\n    }\n\n    .dataframe tbody tr th {\n        vertical-align: top;\n    }\n\n    .dataframe thead th {\n        text-align: right;\n    }\n</style>\n<table border=\"1\" class=\"dataframe\">\n  <thead>\n    <tr style=\"text-align: right;\">\n      <th></th>\n      <th>FIPS</th>\n      <th>COUNTY</th>\n      <th>STATE</th>\n      <th>AGEGROUP</th>\n      <th>POP</th>\n    </tr>\n  </thead>\n  <tbody>\n    <tr>\n      <th>0</th>\n      <td>01001</td>\n      <td>Autauga</td>\n      <td>Alabama</td>\n      <td>0</td>\n      <td>55869.0</td>\n    </tr>\n    <tr>\n      <th>1</th>\n      <td>01001</td>\n      <td>Autauga</td>\n      <td>Alabama</td>\n      <td>1</td>\n      <td>3277.0</td>\n    </tr>\n    <tr>\n      <th>2</th>\n      <td>01001</td>\n      <td>Autauga</td>\n      <td>Alabama</td>\n      <td>2</td>\n      <td>3465.0</td>\n    </tr>\n    <tr>\n      <th>3</th>\n      <td>01001</td>\n      <td>Autauga</td>\n      <td>Alabama</td>\n      <td>3</td>\n      <td>3851.0</td>\n    </tr>\n    <tr>\n      <th>4</th>\n      <td>01001</td>\n      <td>Autauga</td>\n      <td>Alabama</td>\n      <td>4</td>\n      <td>3659.0</td>\n    </tr>\n  </tbody>\n</table>\n</div>"
     },
     "metadata": {},
     "execution_count": 5
    }
   ],
   "source": [
    "API_KEY = 'eed39902208fc176e948f1dc4c8ecd60a81fd8d1'\n",
    "AGEPOP_API_URL = 'https://api.census.gov/data/2019/pep/charagegroups?get=NAME,POP,AGEGROUP&for=county:*&in=state:*&key={}'.format(API_KEY)\n",
    "POP_API_URL = 'https://api.census.gov/data/2019/pep/charagegroups?get=NAME,POP&for=county:*&in=state:*&key={}'.format(API_KEY)\n",
    "\n",
    "#API Call for Census data by age groups \n",
    "results = requests.get(AGEPOP_API_URL).json()\n",
    "agepop = pd.DataFrame(results[1:], columns=results[0])\n",
    "\n",
    "#Cleaning of Population by Age Group data\n",
    "agepop['FIPS'] = agepop.state + agepop.county\n",
    "agepop = agepop.astype(dtype={'NAME': 'str', 'POP':'float','AGEGROUP':'int64','state':'str','county':'str'})\n",
    "agepop = agepop.sort_values(by=['NAME','AGEGROUP'])\n",
    "agepop[['COUNTY','STATE']] = agepop['NAME'].str.split(', ', expand=True)\n",
    "agepop['COUNTY'] = agepop['COUNTY'].str.replace(' County', '')\n",
    "agepop['COUNTY'] = agepop['COUNTY'].str.replace(' Parish', '')\n",
    "agepop = agepop[['FIPS','COUNTY','STATE','AGEGROUP','POP']].reset_index(drop=True)\n",
    "agepop.drop(agepop[agepop['STATE'].str.contains('Puerto Rico')].index, inplace=True)\n",
    "agepop = agepop.sort_values(by=['FIPS','AGEGROUP']).reset_index(drop=True)\n",
    "agepop.head()"
   ]
  },
  {
   "cell_type": "code",
   "execution_count": 29,
   "metadata": {},
   "outputs": [
    {
     "output_type": "stream",
     "name": "stdout",
     "text": [
      "       FIPS      COUNTY    STATE  TOTPOP1  TOTPOP2  TOTPOP3  TOTPOP4\n0     01001     Autauga  Alabama  21434.0  14918.0   7988.0    936.0\n1     01003     Baldwin  Alabama  76014.0  61206.0  42384.0   4446.0\n2     01005     Barbour  Alabama   9301.0   6331.0   4392.0    469.0\n3     01007        Bibb  Alabama   8890.0   6058.0   3344.0    389.0\n4     01009      Blount  Alabama  20721.0  15356.0   9714.0   1100.0\n...     ...         ...      ...      ...      ...      ...      ...\n3137  56037  Sweetwater  Wyoming  17371.0  10337.0   5026.0    463.0\n3138  56039       Teton  Wyoming  10033.0   6184.0   3360.0    357.0\n3139  56041       Uinta  Wyoming   7516.0   4946.0   2747.0    278.0\n3140  56043    Washakie  Wyoming   2628.0   2049.0   1486.0    244.0\n3141  56045      Weston  Wyoming   2363.0   1928.0   1278.0    200.0\n\n[3142 rows x 7 columns]\n"
     ]
    }
   ],
   "source": [
    "AG1 = agepop[agepop['AGEGROUP'] == 30].rename(columns={'POP':'TOTPOP1'}).drop(['AGEGROUP'], axis=1).reset_index(drop=True)\n",
    "AG2 = agepop[agepop['AGEGROUP'] == 25].rename(columns={'POP':'TOTPOP2'}).drop(['AGEGROUP'], axis=1).reset_index(drop=True)\n",
    "\n",
    "AG3 = agepop[agepop['AGEGROUP'].isin([14,15,16,17])].rename(columns={'POP':'TOTPOP3'}).drop(['AGEGROUP'], axis=1).reset_index(drop=True)\n",
    "AG3 = (AG3.groupby(['FIPS','COUNTY','STATE'], sort=False, as_index=False).agg({'TOTPOP3':'sum'}))\n",
    "\n",
    "AG4 = agepop[agepop['AGEGROUP'] == 18].rename(columns={'POP':'TOTPOP4'}).drop(['AGEGROUP'], axis=1).reset_index(drop=True)\n",
    "\n",
    "AGKEY = ['FIPS','STATE']\n",
    "\n",
    "AG = AG1.merge(AG2,on=AGKEY,how='left',suffixes=('','_drop')).merge(AG3,on=AGKEY,how='left',suffixes=('','_drop')).merge(AG4,on=AGKEY,how='left',suffixes=('','_drop'))\n",
    "AG.drop([col for col in AG.columns if 'drop' in col],axis=1,inplace=True)\n",
    "print(AG)"
   ]
  },
  {
   "cell_type": "code",
   "execution_count": 31,
   "metadata": {},
   "outputs": [
    {
     "output_type": "stream",
     "name": "stdout",
     "text": [
      "       FIPS      COUNTY    STATE      VETPOP1      VETPOP2      VETPOP3  \\\n0     01001     Autauga  Alabama  1355.750242  2237.755474  1821.970552   \n1     01003     Baldwin  Alabama  2936.527243  5989.212268  9060.702094   \n2     01005     Barbour  Alabama   318.631790   706.117241   727.108396   \n3     01007        Bibb  Alabama   194.298055   437.829733   559.635620   \n4     01009      Blount  Alabama   667.709857  1097.724987  1640.854655   \n...     ...         ...      ...          ...          ...          ...   \n3137  56037  Sweetwater  Wyoming   757.539729   963.783489  1317.010899   \n3138  56039       Teton  Wyoming   119.684117   322.388664   607.847650   \n3139  56041       Uinta  Wyoming   220.408779   377.312506   577.140590   \n3140  56043    Washakie  Wyoming   107.418894   158.755930   318.032608   \n3141  56045      Weston  Wyoming   112.840273   160.579994   263.074304   \n\n          VETPOP4  \n0      287.713197  \n1     1679.362098  \n2       96.987650  \n3       73.096405  \n4      297.409307  \n...           ...  \n3137   123.436263  \n3138    43.919607  \n3139    44.039251  \n3140    37.780506  \n3141    12.554431  \n\n[3142 rows x 7 columns]\n"
     ]
    }
   ],
   "source": [
    "AGVet1 = veterans2021[veterans2021['AGEGROUP'] == '17-44'].rename(columns={'VETS':'VETPOP1'}).drop(['AGEGROUP'],axis=1).reset_index(drop=True)\n",
    "AGVet2 = veterans2021[veterans2021['AGEGROUP'] == '45-64'].rename(columns={'VETS':'VETPOP2'}).drop(['AGEGROUP'],axis=1).reset_index(drop=True)\n",
    "AGVet3 = veterans2021[veterans2021['AGEGROUP'] == '65-84'].rename(columns={'VETS':'VETPOP3'}).drop(['AGEGROUP'],axis=1).reset_index(drop=True)\n",
    "AGVet4 = veterans2021[veterans2021['AGEGROUP'] == '85+'].rename(columns={'VETS':'VETPOP4'}).drop(['AGEGROUP'],axis=1).reset_index(drop=True)\n",
    "\n",
    "AGVet = AGVet1.merge(AGVet2,on=AGKEY,how='left',suffixes=('','_drop')).merge(AGVet3,on=AGKEY,how='left',suffixes=('','_drop')).merge(AGVet4,on=AGKEY,how='left',suffixes=('','_drop'))\n",
    "AGVet.drop([col for col in AGVet.columns if 'drop' in col],axis=1,inplace=True)\n",
    "print(AGVet)"
   ]
  },
  {
   "cell_type": "code",
   "execution_count": 8,
   "metadata": {},
   "outputs": [
    {
     "output_type": "stream",
     "name": "stdout",
     "text": [
      "       FIPS      COUNTY    STATE       POP\n2278  01001     Autauga  Alabama   55869.0\n2331  01003     Baldwin  Alabama  223234.0\n2390  01005     Barbour  Alabama   24686.0\n2391  01007        Bibb  Alabama   22394.0\n2396  01009      Blount  Alabama   57826.0\n...     ...         ...      ...       ...\n1241  56037  Sweetwater  Wyoming   42343.0\n1240  56039       Teton  Wyoming   23464.0\n1250  56041       Uinta  Wyoming   20226.0\n1251  56043    Washakie  Wyoming    7805.0\n1255  56045      Weston  Wyoming    6927.0\n\n[3142 rows x 4 columns]\n"
     ]
    }
   ],
   "source": [
    "#API Call for total population counts not split by age groups\n",
    "results2 = requests.get(POP_API_URL).json()\n",
    "pop = pd.DataFrame(results2[1:], columns=results2[0])\n",
    "\n",
    "#Cleaning of total population counts\n",
    "pop['FIPS'] = pop.state + pop.county\n",
    "pop = pop.astype(dtype={'NAME': 'str', 'POP':'float','state':'str','county':'str'})\n",
    "pop[['COUNTY','STATE']] = pop['NAME'].str.split(', ', expand=True)\n",
    "pop['COUNTY'] = pop['COUNTY'].str.replace(' County', '')\n",
    "pop['COUNTY'] = pop['COUNTY'].str.replace(' Parish', '')\n",
    "pop = pop[['FIPS','COUNTY','STATE','POP']].reset_index(drop=True)\n",
    "pop.drop(pop[pop['STATE'].str.contains('Puerto Rico')].index, inplace=True)\n",
    "pop = pop.sort_values(by='FIPS')\n",
    "print(pop)"
   ]
  },
  {
   "cell_type": "code",
   "execution_count": 32,
   "metadata": {},
   "outputs": [],
   "source": [
    "#Start central frame with Vet count and Veteran Percentage of Total Population\n",
    "totpop_withvet = pd.merge(pop,POPveterans2021, on=AGKEY, how='left',suffixes=('','_drop'))\n",
    "totpop_withvet.drop([col for col in totpop_withvet.columns if 'drop' in col],axis=1,inplace=True)\n",
    "totpop_withvet['VET_PERCENT'] = totpop_withvet['VETS']/totpop_withvet['POP']\n",
    "totpop_withvet.to_csv('totpop_withvet.csv',index=False)"
   ]
  },
  {
   "cell_type": "code",
   "execution_count": 68,
   "metadata": {},
   "outputs": [],
   "source": [
    "#Daily updated NYTimes COVID-19 Data \n",
    "covid = pd.read_csv('https://github.com/nytimes/covid-19-data/blob/master/us-counties.csv?raw=true',dtype={'fips':'str'})\n",
    "\n",
    "#Formatting of NYTimes COVID-19 Data\n",
    "covid[['cases','deaths']] = covid[['cases','deaths']].fillna(0).astype(int)\n",
    "covid['date'] = pd.to_datetime(covid['date'])\n",
    "covid = covid[['date','fips','county','state','cases','deaths']]\n",
    "covid = covid.rename(columns={'date':'DATE','fips':'FIPS','county':'COUNTY','state':'STATE','cases':'CASES','deaths':'DEATHS'})"
   ]
  },
  {
   "cell_type": "code",
   "execution_count": 69,
   "metadata": {},
   "outputs": [
    {
     "output_type": "stream",
     "name": "stdout",
     "text": [
      "           DATE   FIPS      COUNTY    STATE  CASES  DEATHS\n0    2021-04-26  01001     Autauga  Alabama   6882     107\n1    2021-04-26  01003     Baldwin  Alabama  20863     305\n2    2021-04-26  01005     Barbour  Alabama   2296      56\n3    2021-04-26  01007        Bibb  Alabama   2584      62\n4    2021-04-26  01009      Blount  Alabama   6574     134\n...         ...    ...         ...      ...    ...     ...\n3242 2021-04-26  56037  Sweetwater  Wyoming   4179      37\n3243 2021-04-26  56039       Teton  Wyoming   3724       9\n3244 2021-04-26  56041       Uinta  Wyoming   2165      12\n3245 2021-04-26  56043    Washakie  Wyoming    897      26\n3246 2021-04-26  56045      Weston  Wyoming    648       5\n\n[3247 rows x 6 columns]\n       FIPS      COUNTY    STATE  CASES  DEATHS  YESTER_CASES  YESTER_DEATHS\n0     01001     Autauga  Alabama   6882     107          6879            107\n1     01003     Baldwin  Alabama  20863     305         20847            305\n2     01005     Barbour  Alabama   2296      56          2296             56\n3     01007        Bibb  Alabama   2584      62          2584             62\n4     01009      Blount  Alabama   6574     134          6571            134\n...     ...         ...      ...    ...     ...           ...            ...\n3244  56037  Sweetwater  Wyoming   4179      37          4159             37\n3245  56039       Teton  Wyoming   3724       9          3719              9\n3246  56041       Uinta  Wyoming   2165      12          2158             12\n3247  56043    Washakie  Wyoming    897      26           897             26\n3248  56045      Weston  Wyoming    648       5           648              5\n\n[3249 rows x 7 columns]\n"
     ]
    }
   ],
   "source": [
    "#Creation of 2 dataframes isolating the latest days-worth of COVID-19 data by county and the day prior\n",
    "covid_today = covid[covid['DATE'] == covid['DATE'].max()].reset_index(drop=True)\n",
    "covid_yesterday = covid[covid['DATE'] == covid['DATE'].max()- pd.to_timedelta(1, unit='D')].reset_index(drop=True)\n",
    "\n",
    "#Creation of merged dataframe for latest days-worth of data and day prior\n",
    "covid_today2 = covid_today.drop(['DATE'],axis=1)\n",
    "covid_yesterday2 = covid_yesterday.drop(['DATE'],axis=1).rename(columns={'CASES':'YESTER_CASES','DEATHS':'YESTER_DEATHS'})\n",
    "covid_lately = pd.merge(covid_today2, covid_yesterday2, how='left', on=AGKEY, suffixes=('','_drop'))\n",
    "covid_lately.drop([col for col in covid_lately.columns if 'drop' in col],axis=1,inplace=True)\n",
    "\n",
    "print(covid_today)\n",
    "print(covid_lately)"
   ]
  },
  {
   "cell_type": "code",
   "execution_count": 49,
   "metadata": {},
   "outputs": [
    {
     "output_type": "stream",
     "name": "stdout",
     "text": [
      "       FIPS      COUNTY    STATE       POP          VETS  VET_PERCENT  \\\n0     01001     Autauga  Alabama   55869.0   5703.189466     0.102081   \n1     01003     Baldwin  Alabama  223234.0  19665.803702     0.088095   \n2     01005     Barbour  Alabama   24686.0   1848.845078     0.074894   \n3     01007        Bibb  Alabama   22394.0   1264.859815     0.056482   \n4     01009      Blount  Alabama   57826.0   3703.698806     0.064049   \n...     ...         ...      ...       ...           ...          ...   \n3137  56037  Sweetwater  Wyoming   42343.0   3161.770380     0.074670   \n3138  56039       Teton  Wyoming   23464.0   1093.840038     0.046618   \n3139  56041       Uinta  Wyoming   20226.0   1218.901127     0.060264   \n3140  56043    Washakie  Wyoming    7805.0    621.987939     0.079691   \n3141  56045      Weston  Wyoming    6927.0    549.049003     0.079262   \n\n        CASES  YESTER_CASES    VET_CASES   VET_YESTER  \n0      6882.0        6879.0   702.524654   702.218410  \n1     20863.0       20847.0  1837.926403  1836.516883  \n2      2296.0        2296.0   171.957721   171.957721  \n3      2584.0        2584.0   145.949708   145.949708  \n4      6574.0        6571.0   421.058277   420.866130  \n...       ...           ...          ...          ...  \n3137   4179.0        4159.0   312.047763   310.554354  \n3138   3724.0        3719.0   173.604684   173.371595  \n3139   2165.0        2158.0   130.471717   130.049868  \n3140    897.0         897.0    71.482791    71.482791  \n3141    648.0         648.0    51.361882    51.361882  \n\n[3142 rows x 10 columns]\n"
     ]
    }
   ],
   "source": [
    "\n",
    "#Add in columns for today and yesterday's cases as well as the veteran share by population percentage\n",
    "covid_lately2 = covid_lately.drop(['DEATHS','YESTER_DEATHS'], axis=1)\n",
    "VAPopCases = pd.merge(totpop_withvet,covid_lately2,on=AGKEY, how='left',suffixes=('','_drop'))\n",
    "VAPopCases.drop([col for col in VAPopCases.columns if 'drop' in col],axis=1,inplace=True)\n",
    "VAPopCases['VET_CASES'] = VAPopCases['CASES'] * VAPopCases['VET_PERCENT']\n",
    "VAPopCases['VET_YESTER'] = VAPopCases['YESTER_CASES'] * VAPopCases['VET_PERCENT']\n",
    "\n",
    "print(VAPopCases)"
   ]
  },
  {
   "cell_type": "code",
   "execution_count": 52,
   "metadata": {},
   "outputs": [
    {
     "output_type": "execute_result",
     "data": {
      "text/plain": [
       "    FIPS   COUNTY    STATE        AGEGROUP  CASES\n",
       "0  01001  Autauga  Alabama    0 - 17 years    489\n",
       "1  01001  Autauga  Alabama  18 to 49 years   2062\n",
       "2  01001  Autauga  Alabama  50 to 64 years    858\n",
       "3  01001  Autauga  Alabama       65+ years    638\n",
       "4  01003  Baldwin  Alabama    0 - 17 years   1185"
      ],
      "text/html": "<div>\n<style scoped>\n    .dataframe tbody tr th:only-of-type {\n        vertical-align: middle;\n    }\n\n    .dataframe tbody tr th {\n        vertical-align: top;\n    }\n\n    .dataframe thead th {\n        text-align: right;\n    }\n</style>\n<table border=\"1\" class=\"dataframe\">\n  <thead>\n    <tr style=\"text-align: right;\">\n      <th></th>\n      <th>FIPS</th>\n      <th>COUNTY</th>\n      <th>STATE</th>\n      <th>AGEGROUP</th>\n      <th>CASES</th>\n    </tr>\n  </thead>\n  <tbody>\n    <tr>\n      <th>0</th>\n      <td>01001</td>\n      <td>Autauga</td>\n      <td>Alabama</td>\n      <td>0 - 17 years</td>\n      <td>489</td>\n    </tr>\n    <tr>\n      <th>1</th>\n      <td>01001</td>\n      <td>Autauga</td>\n      <td>Alabama</td>\n      <td>18 to 49 years</td>\n      <td>2062</td>\n    </tr>\n    <tr>\n      <th>2</th>\n      <td>01001</td>\n      <td>Autauga</td>\n      <td>Alabama</td>\n      <td>50 to 64 years</td>\n      <td>858</td>\n    </tr>\n    <tr>\n      <th>3</th>\n      <td>01001</td>\n      <td>Autauga</td>\n      <td>Alabama</td>\n      <td>65+ years</td>\n      <td>638</td>\n    </tr>\n    <tr>\n      <th>4</th>\n      <td>01003</td>\n      <td>Baldwin</td>\n      <td>Alabama</td>\n      <td>0 - 17 years</td>\n      <td>1185</td>\n    </tr>\n  </tbody>\n</table>\n</div>"
     },
     "metadata": {},
     "execution_count": 52
    }
   ],
   "source": [
    "CDCcovid = pd.read_csv('COVID-19_Case_Surveillance_Public_Use_Data_with_Geography.csv', usecols=['case_month','res_state','res_county','state_fips_code','county_fips_code','age_group'], dtype={'state_fips_code':'str','county_fips_code':'str'}) \\\n",
    "    .dropna(subset=['res_state','res_county','age_group']) \\\n",
    "    .groupby(['res_state','res_county','age_group'],sort=False,as_index=False) \\\n",
    "    .agg({'state_fips_code':'first','county_fips_code':'first','case_month':'count'}) \\\n",
    "    .reset_index(drop=True)\n",
    "\n",
    "CDCcovid['FIPS'] = CDCcovid.county_fips_code\n",
    "CDCcovid = CDCcovid.drop(['state_fips_code','county_fips_code'],axis=1).rename(columns={'res_state':'STATE','res_county':'COUNTY','age_group':'AGEGROUP','case_month':'CASES'})\n",
    "CDCcovid = CDCcovid.drop(CDCcovid[CDCcovid['AGEGROUP'] == 'Missing'].index).sort_values(by=['FIPS','STATE','COUNTY','AGEGROUP'])\n",
    "CDCcovid = CDCcovid[['FIPS','COUNTY','STATE','AGEGROUP','CASES']].reset_index(drop=True)\n",
    "CDCcovid['COUNTY'] = CDCcovid['COUNTY'].str.title()\n",
    "CDCcovid['STATE'] = CDCcovid.apply(lambda x: stateNames(x['STATE']), axis=1)\n",
    "\n",
    "CDCcovid.head()"
   ]
  },
  {
   "cell_type": "code",
   "execution_count": 39,
   "metadata": {},
   "outputs": [
    {
     "output_type": "stream",
     "name": "stdout",
     "text": [
      "       FIPS     COUNTY      STATE  AG1CASES  AG2CASES     AG3CASES  \\\n0     01001    Autauga    Alabama      2062       858   571.082922   \n1     01003    Baldwin    Alabama      5356      2358  1953.121332   \n2     01005    Barbour    Alabama       569       262   227.686484   \n3     01007       Bibb    Alabama       809       305   189.012590   \n4     01009     Blount    Alabama      1751       777   605.440725   \n...     ...        ...        ...       ...       ...          ...   \n1465  55133   Waukesha  Wisconsin     18232      9627  5306.940723   \n1466  55135    Waupaca  Wisconsin      1950      1141   799.359175   \n1467  55137   Waushara  Wisconsin       662       457   253.100490   \n1468  55139  Winnebago  Wisconsin      8303      3420  1885.519614   \n1469  55141       Wood  Wisconsin      2895      1419   937.781931   \n\n        AG4CASES  TOTALCASES     AG1AR     AG2AR     AG3AR     AG4AR  \n0      66.917078      3558.0  0.579539  0.241147  0.160507  0.018807  \n1     204.878668      9872.0  0.542545  0.238857  0.197845  0.020754  \n2      24.313516      1083.0  0.525392  0.241921  0.210237  0.022450  \n3      21.987410      1325.0  0.610566  0.230189  0.142651  0.016594  \n4      68.559275      3202.0  0.546846  0.242661  0.189082  0.021411  \n...          ...         ...       ...       ...       ...       ...  \n1465  832.059277     33998.0  0.536267  0.283164  0.156096  0.024474  \n1466  140.640825      4031.0  0.483751  0.283056  0.198303  0.034890  \n1467   31.899510      1404.0  0.471510  0.325499  0.180271  0.022720  \n1468  301.480386     13910.0  0.596909  0.245866  0.135551  0.021674  \n1469  154.218069      5406.0  0.535516  0.262486  0.173471  0.028527  \n\n[1470 rows x 12 columns]\n"
     ]
    },
    {
     "output_type": "execute_result",
     "data": {
      "text/plain": [
       "       FIPS     COUNTY      STATE  AG1CASES  AG2CASES     AG3CASES  \\\n",
       "1465  55133   Waukesha  Wisconsin     18232      9627  5306.940723   \n",
       "1466  55135    Waupaca  Wisconsin      1950      1141   799.359175   \n",
       "1467  55137   Waushara  Wisconsin       662       457   253.100490   \n",
       "1468  55139  Winnebago  Wisconsin      8303      3420  1885.519614   \n",
       "1469  55141       Wood  Wisconsin      2895      1419   937.781931   \n",
       "\n",
       "        AG4CASES  TOTALCASES     AG1AR     AG2AR     AG3AR     AG4AR  \n",
       "1465  832.059277     33998.0  0.536267  0.283164  0.156096  0.024474  \n",
       "1466  140.640825      4031.0  0.483751  0.283056  0.198303  0.034890  \n",
       "1467   31.899510      1404.0  0.471510  0.325499  0.180271  0.022720  \n",
       "1468  301.480386     13910.0  0.596909  0.245866  0.135551  0.021674  \n",
       "1469  154.218069      5406.0  0.535516  0.262486  0.173471  0.028527  "
      ],
      "text/html": "<div>\n<style scoped>\n    .dataframe tbody tr th:only-of-type {\n        vertical-align: middle;\n    }\n\n    .dataframe tbody tr th {\n        vertical-align: top;\n    }\n\n    .dataframe thead th {\n        text-align: right;\n    }\n</style>\n<table border=\"1\" class=\"dataframe\">\n  <thead>\n    <tr style=\"text-align: right;\">\n      <th></th>\n      <th>FIPS</th>\n      <th>COUNTY</th>\n      <th>STATE</th>\n      <th>AG1CASES</th>\n      <th>AG2CASES</th>\n      <th>AG3CASES</th>\n      <th>AG4CASES</th>\n      <th>TOTALCASES</th>\n      <th>AG1AR</th>\n      <th>AG2AR</th>\n      <th>AG3AR</th>\n      <th>AG4AR</th>\n    </tr>\n  </thead>\n  <tbody>\n    <tr>\n      <th>1465</th>\n      <td>55133</td>\n      <td>Waukesha</td>\n      <td>Wisconsin</td>\n      <td>18232</td>\n      <td>9627</td>\n      <td>5306.940723</td>\n      <td>832.059277</td>\n      <td>33998.0</td>\n      <td>0.536267</td>\n      <td>0.283164</td>\n      <td>0.156096</td>\n      <td>0.024474</td>\n    </tr>\n    <tr>\n      <th>1466</th>\n      <td>55135</td>\n      <td>Waupaca</td>\n      <td>Wisconsin</td>\n      <td>1950</td>\n      <td>1141</td>\n      <td>799.359175</td>\n      <td>140.640825</td>\n      <td>4031.0</td>\n      <td>0.483751</td>\n      <td>0.283056</td>\n      <td>0.198303</td>\n      <td>0.034890</td>\n    </tr>\n    <tr>\n      <th>1467</th>\n      <td>55137</td>\n      <td>Waushara</td>\n      <td>Wisconsin</td>\n      <td>662</td>\n      <td>457</td>\n      <td>253.100490</td>\n      <td>31.899510</td>\n      <td>1404.0</td>\n      <td>0.471510</td>\n      <td>0.325499</td>\n      <td>0.180271</td>\n      <td>0.022720</td>\n    </tr>\n    <tr>\n      <th>1468</th>\n      <td>55139</td>\n      <td>Winnebago</td>\n      <td>Wisconsin</td>\n      <td>8303</td>\n      <td>3420</td>\n      <td>1885.519614</td>\n      <td>301.480386</td>\n      <td>13910.0</td>\n      <td>0.596909</td>\n      <td>0.245866</td>\n      <td>0.135551</td>\n      <td>0.021674</td>\n    </tr>\n    <tr>\n      <th>1469</th>\n      <td>55141</td>\n      <td>Wood</td>\n      <td>Wisconsin</td>\n      <td>2895</td>\n      <td>1419</td>\n      <td>937.781931</td>\n      <td>154.218069</td>\n      <td>5406.0</td>\n      <td>0.535516</td>\n      <td>0.262486</td>\n      <td>0.173471</td>\n      <td>0.028527</td>\n    </tr>\n  </tbody>\n</table>\n</div>"
     },
     "metadata": {},
     "execution_count": 39
    }
   ],
   "source": [
    "  #Processing the CDC data to obtain columns for cases by county by age group and total cases by county\n",
    "Cases1 = CDCcovid[CDCcovid['AGEGROUP'] == '18 to 49 years'].rename(columns={'CASES':'AG1CASES'}).drop(['AGEGROUP'],axis=1).reset_index(drop=True)\n",
    "Cases2 = CDCcovid[CDCcovid['AGEGROUP'] == '50 to 64 years'].rename(columns={'CASES':'AG2CASES'}).drop(['AGEGROUP'],axis=1).reset_index(drop=True)\n",
    "Cases3 = CDCcovid[CDCcovid['AGEGROUP'] == '65+ years'].rename(columns={'CASES':'AG3CASES'}).drop(['AGEGROUP'],axis=1).reset_index(drop=True)\n",
    "\n",
    "Cases3 = Cases3.merge(AG3,on=AGKEY,how='left',suffixes=('','_drop')).merge(AG4,on=AGKEY,how='left',suffixes=('','_drop'))\n",
    "Cases3.drop([col for col in Cases3.columns if 'drop' in col],axis=1,inplace=True)\n",
    "Cases3['AG3CASES'] = Cases3['AG3CASES'] * (Cases3['TOTPOP3'] / (Cases3['TOTPOP3'] +Cases3['TOTPOP4']))\n",
    "Cases3 = Cases3.drop(['TOTPOP3','TOTPOP4'], axis=1)\n",
    "\n",
    "Cases4 = CDCcovid[CDCcovid['AGEGROUP'] == '65+ years'].rename(columns={'CASES':'AG4CASES'}).drop(['AGEGROUP'],axis=1).reset_index(drop=True)\n",
    "\n",
    "Cases4 = Cases4.merge(AG3,on=AGKEY,how='left',suffixes=('','_drop')).merge(AG4,on=AGKEY,how='left',suffixes=('','_drop'))\n",
    "Cases4.drop([col for col in Cases4.columns if 'drop' in col],axis=1,inplace=True)\n",
    "Cases4['AG4CASES'] = Cases4['AG4CASES'] * (Cases4['TOTPOP4'] / (Cases4['TOTPOP3'] +Cases4['TOTPOP4']))\n",
    "Cases4 = Cases4.drop(['TOTPOP3','TOTPOP4'], axis=1)\n",
    "\n",
    "\n",
    "CDC = Cases1.merge(Cases2,on=AGKEY,how='left',suffixes=('','_drop')).merge(Cases3,on=AGKEY,how='left',suffixes=('','_drop')).merge(Cases4,on=AGKEY,how='left',suffixes=('','_drop'))\n",
    "CDC.drop([col for col in CDC.columns if 'drop' in col],axis=1,inplace=True)\n",
    "\n",
    "CDC['TOTALCASES'] = CDC['AG1CASES']+CDC['AG2CASES']+CDC['AG3CASES']+CDC['AG4CASES']\n",
    "\n",
    "#Processing of these values to create county-level age-group percentage of cases\n",
    "CDC['AG1AR'] = CDC['AG1CASES']/CDC['TOTALCASES']\n",
    "CDC['AG2AR'] = CDC['AG2CASES']/CDC['TOTALCASES']\n",
    "CDC['AG3AR'] = CDC['AG3CASES']/CDC['TOTALCASES']\n",
    "CDC['AG4AR'] = CDC['AG4CASES']/CDC['TOTALCASES']\n",
    "\n",
    "CDC.to_csv('CDC.csv',index=False)\n",
    "print(CDC)\n",
    "CDC.tail()"
   ]
  },
  {
   "cell_type": "code",
   "execution_count": 40,
   "metadata": {},
   "outputs": [
    {
     "output_type": "stream",
     "name": "stdout",
     "text": [
      "       FIPS      COUNTY    STATE  Vet1Perc  Vet2Perc  Vet3Perc  Vet4Perc\n0     01001     Autauga  Alabama  0.063252  0.150004  0.228088  0.307386\n1     01003     Baldwin  Alabama  0.038631  0.097853  0.213776  0.377724\n2     01005     Barbour  Alabama  0.034258  0.111533  0.165553  0.206797\n3     01007        Bibb  Alabama  0.021856  0.072273  0.167355  0.187908\n4     01009      Blount  Alabama  0.032224  0.071485  0.168916  0.270372\n...     ...         ...      ...       ...       ...       ...       ...\n3137  56037  Sweetwater  Wyoming  0.043609  0.093236  0.262040  0.266601\n3138  56039       Teton  Wyoming  0.011929  0.052133  0.180907  0.123024\n3139  56041       Uinta  Wyoming  0.029325  0.076286  0.210099  0.158415\n3140  56043    Washakie  Wyoming  0.040875  0.077480  0.214019  0.154838\n3141  56045      Weston  Wyoming  0.047753  0.083288  0.205848  0.062772\n\n[3142 rows x 7 columns]\n"
     ]
    }
   ],
   "source": [
    "AGProportions = AG.merge(AGVet,on=AGKEY,how='left',suffixes=('','_drop'))\n",
    "AGProportions.drop([col for col in AGProportions.columns if 'drop' in col],axis=1,inplace=True)\n",
    "\n",
    "AGProportions['Vet1Perc'] = AGProportions['VETPOP1']/AGProportions['TOTPOP1']\n",
    "AGProportions['Vet2Perc'] = AGProportions['VETPOP2']/AGProportions['TOTPOP2']\n",
    "AGProportions['Vet3Perc'] = AGProportions['VETPOP3']/AGProportions['TOTPOP3']\n",
    "AGProportions['Vet4Perc'] = AGProportions['VETPOP4']/AGProportions['TOTPOP4']\n",
    "AGProportions = AGProportions[['FIPS','COUNTY','STATE','Vet1Perc','Vet2Perc','Vet3Perc','Vet4Perc']]\n",
    "print(AGProportions)\n",
    "\n",
    "AGProportions.to_csv('AGProportions.csv',index=False)"
   ]
  },
  {
   "cell_type": "code",
   "execution_count": 41,
   "metadata": {},
   "outputs": [
    {
     "output_type": "stream",
     "name": "stdout",
     "text": [
      "       FIPS      COUNTY    STATE   TOTALCASES1  TOTALCASES2  TOTALCASES3  \\\n0     01001     Autauga  Alabama   3988.387858  1659.571669  1104.607272   \n1     01003     Baldwin  Alabama  11319.107374  4983.281402  4127.630709   \n2     01005     Barbour  Alabama   1206.301016   555.449677   482.703756   \n3     01007        Bibb  Alabama   1577.702642   594.807547   368.610214   \n4     01009      Blount  Alabama   3594.963773  1595.252342  1243.025399   \n...     ...         ...      ...           ...          ...          ...   \n3137  56037  Sweetwater  Wyoming   2429.382875   992.017509   668.449392   \n3138  56039       Teton  Wyoming   2164.877202   884.008902   595.670145   \n3139  56041       Uinta  Wyoming   1258.581939   513.931062   346.301252   \n3140  56043    Washakie  Wyoming    521.454041   212.931253   143.479087   \n3141  56045      Weston  Wyoming    376.702585   153.823246   103.650444   \n\n      TOTALCASES4   VETCASES1   VETCASES2   VETCASES3   VETCASES4  \n0      129.433201  252.274788  248.941922  251.948162   39.785940  \n1      432.980515  437.272965  487.630790  882.390341  163.547248  \n2       51.545551   41.325218   61.951128   79.913013   10.659450  \n3       42.879597   34.481952   42.988516   61.688818    8.057441  \n4      140.758487  115.843480  114.036752  209.967471   38.057167  \n...           ...         ...         ...         ...         ...  \n3137    89.150225  105.944047   92.492028  175.160194   23.767539  \n3138    79.443751   25.824919   46.085778  107.760922    9.773497  \n3139    46.185747   36.908264   39.205948   72.757375    7.316495  \n3140    19.135619   21.314314   16.497852   30.707287    2.962924  \n3141    13.823725   17.988668   12.811689   21.336282    0.867745  \n\n[3142 rows x 11 columns]\n"
     ]
    }
   ],
   "source": [
    "AgeFactor = VAPopCases.drop(['POP','VETS','VET_PERCENT','YESTER_CASES','VET_CASES','VET_YESTER'], axis=1)\n",
    "AgeFactor = AgeFactor.merge(CDC, on=AGKEY,how='left',suffixes=('','_drop')).drop(['AG1CASES','AG2CASES','AG3CASES','AG4CASES','TOTALCASES'],axis=1)\n",
    "AgeFactor.drop([col for col in AgeFactor.columns if 'drop' in col],axis=1,inplace=True)\n",
    "\n",
    "AgeFactor['AG1AR'].fillna(value=AgeFactor['AG1AR'].mean(), inplace=True)\n",
    "AgeFactor['AG2AR'].fillna(value=AgeFactor['AG2AR'].mean(), inplace=True)\n",
    "AgeFactor['AG3AR'].fillna(value=AgeFactor['AG3AR'].mean(), inplace=True)\n",
    "AgeFactor['AG4AR'].fillna(value=AgeFactor['AG4AR'].mean(), inplace=True)\n",
    "\n",
    "AGCases = AgeFactor.merge(AGProportions, on=AGKEY, how='left',suffixes=('','_drop'))\n",
    "AGCases.drop([col for col in AGCases.columns if 'drop' in col],axis=1,inplace=True)\n",
    "\n",
    "AGCases['TOTALCASES1'] = AGCases['CASES']*AGCases['AG1AR']\n",
    "AGCases['TOTALCASES2'] = AGCases['CASES']*AGCases['AG2AR']\n",
    "AGCases['TOTALCASES3'] = AGCases['CASES']*AGCases['AG3AR']\n",
    "AGCases['TOTALCASES4'] = AGCases['CASES']*AGCases['AG4AR']\n",
    "AGCases = AGCases.drop(['CASES','AG1AR','AG2AR','AG3AR','AG4AR'],axis=1)\n",
    "\n",
    "AGCases['VETCASES1'] = AGCases['TOTALCASES1']*AGCases['Vet1Perc']\n",
    "AGCases['VETCASES2'] = AGCases['TOTALCASES2']*AGCases['Vet2Perc']\n",
    "AGCases['VETCASES3'] = AGCases['TOTALCASES3']*AGCases['Vet3Perc']\n",
    "AGCases['VETCASES4'] = AGCases['TOTALCASES4']*AGCases['Vet4Perc']\n",
    "AGCases = AGCases.drop(['Vet1Perc','Vet2Perc','Vet3Perc','Vet4Perc'],axis=1)\n",
    "\n",
    "print(AGCases)"
   ]
  },
  {
   "cell_type": "code",
   "execution_count": 42,
   "metadata": {},
   "outputs": [
    {
     "output_type": "stream",
     "name": "stdout",
     "text": [
      "       FIPS      COUNTY    STATE  LOWER_Hospitalizations  \\\n0     01001     Autauga  Alabama               65.584551   \n1     01003     Baldwin  Alabama              212.430733   \n2     01005     Barbour  Alabama               19.128562   \n3     01007        Bibb  Alabama               14.473366   \n4     01009      Blount  Alabama               50.284898   \n...     ...         ...      ...                     ...   \n3137  56037  Sweetwater  Wyoming               39.765930   \n3138  56039       Teton  Wyoming               22.366154   \n3139  56041       Uinta  Wyoming               15.847176   \n3140  56043    Washakie  Wyoming                6.687245   \n3141  56045      Weston  Wyoming                4.426421   \n\n      UPPER_Hospitalizations  \n0                 133.749484  \n1                 399.694004  \n2                  37.050271  \n3                  27.940043  \n4                  95.027643  \n...                      ...  \n3137               75.766910  \n3138               40.823081  \n3139               30.076036  \n3140               12.922691  \n3141                8.804811  \n\n[3142 rows x 5 columns]\n"
     ]
    }
   ],
   "source": [
    "VetHospital = AGCases.drop(['TOTALCASES1','TOTALCASES2','TOTALCASES3','TOTALCASES4'],axis=1)\n",
    "\n",
    "VetHospital['LOWER_Hospitalizations'] = 0.006*VetHospital['VETCASES1'] + 0.0545*VetHospital['VETCASES2'] + 0.159*VetHospital['VETCASES3'] + 0.2625*VetHospital['VETCASES4']\n",
    "\n",
    "VetHospital['UPPER_Hospitalizations'] = 0.051*VetHospital['VETCASES1'] + 0.148*VetHospital['VETCASES2'] + 0.2625*VetHospital['VETCASES3'] + 0.45*VetHospital['VETCASES4']\n",
    "\n",
    "VetHospital = VetHospital.drop(['VETCASES1','VETCASES2','VETCASES3','VETCASES4'],axis=1)\n",
    "\n",
    "print(VetHospital)"
   ]
  },
  {
   "cell_type": "code",
   "execution_count": 88,
   "metadata": {},
   "outputs": [
    {
     "output_type": "execute_result",
     "data": {
      "text/plain": [
       "    FIPS   COUNTY    STATE       POP          VETS  VET_PERCENT    CASES  \\\n",
       "0  01001  Autauga  Alabama   55869.0   5703.189466     0.102081   6882.0   \n",
       "1  01003  Baldwin  Alabama  223234.0  19665.803702     0.088095  20863.0   \n",
       "2  01005  Barbour  Alabama   24686.0   1848.845078     0.074894   2296.0   \n",
       "3  01007     Bibb  Alabama   22394.0   1264.859815     0.056482   2584.0   \n",
       "4  01009   Blount  Alabama   57826.0   3703.698806     0.064049   6574.0   \n",
       "\n",
       "   YESTER_CASES    VET_CASES   VET_YESTER  LOWER_Hospitalizations  \\\n",
       "0        6879.0   702.524654   702.218410               65.584551   \n",
       "1       20847.0  1837.926403  1836.516883              212.430733   \n",
       "2        2296.0   171.957721   171.957721               19.128562   \n",
       "3        2584.0   145.949708   145.949708               14.473366   \n",
       "4        6571.0   421.058277   420.866130               50.284898   \n",
       "\n",
       "   UPPER_Hospitalizations       DATE  \n",
       "0              133.749484  4-26-2021  \n",
       "1              399.694004             \n",
       "2               37.050271             \n",
       "3               27.940043             \n",
       "4               95.027643             "
      ],
      "text/html": "<div>\n<style scoped>\n    .dataframe tbody tr th:only-of-type {\n        vertical-align: middle;\n    }\n\n    .dataframe tbody tr th {\n        vertical-align: top;\n    }\n\n    .dataframe thead th {\n        text-align: right;\n    }\n</style>\n<table border=\"1\" class=\"dataframe\">\n  <thead>\n    <tr style=\"text-align: right;\">\n      <th></th>\n      <th>FIPS</th>\n      <th>COUNTY</th>\n      <th>STATE</th>\n      <th>POP</th>\n      <th>VETS</th>\n      <th>VET_PERCENT</th>\n      <th>CASES</th>\n      <th>YESTER_CASES</th>\n      <th>VET_CASES</th>\n      <th>VET_YESTER</th>\n      <th>LOWER_Hospitalizations</th>\n      <th>UPPER_Hospitalizations</th>\n      <th>DATE</th>\n    </tr>\n  </thead>\n  <tbody>\n    <tr>\n      <th>0</th>\n      <td>01001</td>\n      <td>Autauga</td>\n      <td>Alabama</td>\n      <td>55869.0</td>\n      <td>5703.189466</td>\n      <td>0.102081</td>\n      <td>6882.0</td>\n      <td>6879.0</td>\n      <td>702.524654</td>\n      <td>702.218410</td>\n      <td>65.584551</td>\n      <td>133.749484</td>\n      <td>4-26-2021</td>\n    </tr>\n    <tr>\n      <th>1</th>\n      <td>01003</td>\n      <td>Baldwin</td>\n      <td>Alabama</td>\n      <td>223234.0</td>\n      <td>19665.803702</td>\n      <td>0.088095</td>\n      <td>20863.0</td>\n      <td>20847.0</td>\n      <td>1837.926403</td>\n      <td>1836.516883</td>\n      <td>212.430733</td>\n      <td>399.694004</td>\n      <td></td>\n    </tr>\n    <tr>\n      <th>2</th>\n      <td>01005</td>\n      <td>Barbour</td>\n      <td>Alabama</td>\n      <td>24686.0</td>\n      <td>1848.845078</td>\n      <td>0.074894</td>\n      <td>2296.0</td>\n      <td>2296.0</td>\n      <td>171.957721</td>\n      <td>171.957721</td>\n      <td>19.128562</td>\n      <td>37.050271</td>\n      <td></td>\n    </tr>\n    <tr>\n      <th>3</th>\n      <td>01007</td>\n      <td>Bibb</td>\n      <td>Alabama</td>\n      <td>22394.0</td>\n      <td>1264.859815</td>\n      <td>0.056482</td>\n      <td>2584.0</td>\n      <td>2584.0</td>\n      <td>145.949708</td>\n      <td>145.949708</td>\n      <td>14.473366</td>\n      <td>27.940043</td>\n      <td></td>\n    </tr>\n    <tr>\n      <th>4</th>\n      <td>01009</td>\n      <td>Blount</td>\n      <td>Alabama</td>\n      <td>57826.0</td>\n      <td>3703.698806</td>\n      <td>0.064049</td>\n      <td>6574.0</td>\n      <td>6571.0</td>\n      <td>421.058277</td>\n      <td>420.866130</td>\n      <td>50.284898</td>\n      <td>95.027643</td>\n      <td></td>\n    </tr>\n  </tbody>\n</table>\n</div>"
     },
     "metadata": {},
     "execution_count": 88
    }
   ],
   "source": [
    "CountyVACOVID = VAPopCases.merge(VetHospital,on=AGKEY,how='left',suffixes=('','_drop'))\n",
    "CountyVACOVID.drop([col for col in CountyVACOVID.columns if 'drop' in col],axis=1,inplace=True)\n",
    "TodayDate = covid['DATE'].max()\n",
    "CountyVACOVID['DATE'] = \"\"\n",
    "CountyVACOVID.loc[0,'DATE'] = '%s-%s-%s' % (TodayDate.month, TodayDate.day, TodayDate.year)\n",
    "CountyVACOVID.to_csv('CountyVACOVID.csv' ,index=False)\n",
    "CountyVACOVID.head()"
   ]
  },
  {
   "cell_type": "code",
   "execution_count": 121,
   "metadata": {},
   "outputs": [
    {
     "output_type": "execute_result",
     "data": {
      "text/plain": [
       "      VISN                        VAMC   FIPS      COUNTY          STATE\n",
       "1495     1  Brockton VA Medical Center  44009  Washington  Massachusetts\n",
       "1496     1  Brockton VA Medical Center  44007  Providence  Massachusetts\n",
       "1497     1  Brockton VA Medical Center  44005     Newport  Massachusetts\n",
       "1498     1  Brockton VA Medical Center  44003        Kent  Massachusetts\n",
       "1499     1  Brockton VA Medical Center  44001     Bristol  Massachusetts"
      ],
      "text/html": "<div>\n<style scoped>\n    .dataframe tbody tr th:only-of-type {\n        vertical-align: middle;\n    }\n\n    .dataframe tbody tr th {\n        vertical-align: top;\n    }\n\n    .dataframe thead th {\n        text-align: right;\n    }\n</style>\n<table border=\"1\" class=\"dataframe\">\n  <thead>\n    <tr style=\"text-align: right;\">\n      <th></th>\n      <th>VISN</th>\n      <th>VAMC</th>\n      <th>FIPS</th>\n      <th>COUNTY</th>\n      <th>STATE</th>\n    </tr>\n  </thead>\n  <tbody>\n    <tr>\n      <th>1495</th>\n      <td>1</td>\n      <td>Brockton VA Medical Center</td>\n      <td>44009</td>\n      <td>Washington</td>\n      <td>Massachusetts</td>\n    </tr>\n    <tr>\n      <th>1496</th>\n      <td>1</td>\n      <td>Brockton VA Medical Center</td>\n      <td>44007</td>\n      <td>Providence</td>\n      <td>Massachusetts</td>\n    </tr>\n    <tr>\n      <th>1497</th>\n      <td>1</td>\n      <td>Brockton VA Medical Center</td>\n      <td>44005</td>\n      <td>Newport</td>\n      <td>Massachusetts</td>\n    </tr>\n    <tr>\n      <th>1498</th>\n      <td>1</td>\n      <td>Brockton VA Medical Center</td>\n      <td>44003</td>\n      <td>Kent</td>\n      <td>Massachusetts</td>\n    </tr>\n    <tr>\n      <th>1499</th>\n      <td>1</td>\n      <td>Brockton VA Medical Center</td>\n      <td>44001</td>\n      <td>Bristol</td>\n      <td>Massachusetts</td>\n    </tr>\n  </tbody>\n</table>\n</div>"
     },
     "metadata": {},
     "execution_count": 121
    }
   ],
   "source": [
    "VAMC = pd.read_csv('VAMC.csv', usecols=['NAME','STATE','STATEFP','COUNTYFP','CountyName','VISN'], converters={'STATEFP': '{:0>2}'.format,'COUNTYFP': '{:0>3}'.format}) \\\n",
    "    .dropna(subset=['VISN']) \\\n",
    "    .astype(dtype={'NAME': 'str', 'VISN':'int','STATEFP':'str','COUNTYFP':'str'}) \n",
    "    \n",
    "VAMC['STATE'] = VAMC.apply(lambda x: stateNames(x['STATE']), axis=1)\n",
    "VAMC['FIPS'] = VAMC.STATEFP + VAMC.COUNTYFP\n",
    "VAMC = VAMC[['VISN','NAME','FIPS','CountyName','STATE']].rename(columns={'CountyName':'COUNTY','NAME':'VAMC'}).sort_values(by=['VISN','VAMC'])\n",
    "VAMC.to_csv('CleanVAMC.csv',index=False)\n",
    "VAMC.head()"
   ]
  },
  {
   "cell_type": "code",
   "execution_count": 107,
   "metadata": {},
   "outputs": [
    {
     "output_type": "execute_result",
     "data": {
      "text/plain": [
       "47430"
      ]
     },
     "metadata": {},
     "execution_count": 107
    }
   ],
   "source": [
    "UScovid = pd.read_csv('https://raw.githubusercontent.com/nytimes/covid-19-data/master/us.csv')\n",
    "\n",
    "#Formatting of NYTimes COVID-19 Data - Country Level\n",
    "UScovid[['cases','deaths']] = UScovid[['cases','deaths']].fillna(0).astype(int)\n",
    "UScovid['date'] = pd.to_datetime(UScovid['date'])\n",
    "UScovid = UScovid.rename(columns={'date':'DATE','cases':'CASES','deaths':'DEATHS'})\n",
    "\n",
    "USCasesToday = UScovid.loc[ UScovid.DATE == UScovid.DATE.max(),'CASES'].values[0]\n",
    "USCasesYesterday = UScovid.loc[ UScovid.DATE == UScovid.DATE.max() - pd.to_timedelta(1, unit='D'),'CASES'].values[0]\n",
    "USNewCases = USCasesToday - USCasesYesterday"
   ]
  },
  {
   "cell_type": "code",
   "execution_count": 99,
   "metadata": {},
   "outputs": [
    {
     "output_type": "execute_result",
     "data": {
      "text/plain": [
       "       FIPS        COUNTY       STATE       POP          VETS  VET_PERCENT  \\\n",
       "555   16009       Benewah       Idaho    9298.0    943.092983     0.101430   \n",
       "561   16021      Boundary       Idaho   12245.0   1154.957978     0.094321   \n",
       "578   16055      Kootenai       Idaho  165697.0  14523.477635     0.087651   \n",
       "579   16057         Latah       Idaho   40108.0   2380.432927     0.059351   \n",
       "585   16069     Nez Perce       Idaho   40408.0   3366.307751     0.083308   \n",
       "2953  53001         Adams  Washington   19983.0    591.755382     0.029613   \n",
       "2954  53003        Asotin  Washington   22582.0   2022.624679     0.089568   \n",
       "2959  53013      Columbia  Washington    3985.0    376.805413     0.094556   \n",
       "2961  53017       Douglas  Washington   43429.0   2456.349558     0.056560   \n",
       "2962  53019         Ferry  Washington    7627.0    715.284567     0.093783   \n",
       "2963  53021      Franklin  Washington   95222.0   3390.335725     0.035605   \n",
       "2964  53023      Garfield  Washington    2225.0    205.927165     0.092552   \n",
       "2965  53025         Grant  Washington   97733.0   5390.074265     0.055151   \n",
       "2974  53043       Lincoln  Washington   10939.0   1188.592307     0.108656   \n",
       "2978  53051  Pend Oreille  Washington   13724.0   1456.576677     0.106134   \n",
       "2984  53063       Spokane  Washington  522798.0  44023.819029     0.084208   \n",
       "2985  53065       Stevens  Washington   45723.0   4486.540470     0.098124   \n",
       "2990  53075       Whitman  Washington   50104.0   2278.309351     0.045472   \n",
       "\n",
       "        CASES  YESTER_CASES    VET_CASES   VET_YESTER  LOWER_Hospitalizations  \\\n",
       "555     667.0         666.0    67.653584    67.552154                7.342884   \n",
       "561     860.0         859.0    81.115873    81.021552                7.999436   \n",
       "578   17673.0       17603.0  1549.052911  1542.917354              177.081902   \n",
       "579    3080.0        3066.0   182.799776   181.968868               10.679805   \n",
       "585    3569.0        3557.0   297.326083   296.326388               31.306886   \n",
       "2953   2078.0        2074.0    61.535690    61.417238               10.225011   \n",
       "2954   1384.0        1384.0   123.962118   123.962118               13.111644   \n",
       "2959    119.0         118.0    11.252157    11.157601                0.920284   \n",
       "2961   3588.0        3588.0   202.937719   202.937719               13.865300   \n",
       "2962    304.0         296.0    28.510097    27.759831                2.447172   \n",
       "2963  12099.0       12061.0   430.779357   429.426384               36.929883   \n",
       "2964    120.0         120.0    11.106184    11.106184                0.960527   \n",
       "2965   9839.0        9788.0   542.630848   539.818146               40.251618   \n",
       "2974    452.0         443.0    49.112691    48.134783                4.206634   \n",
       "2978    713.0         708.0    75.673213    75.142545                6.642998   \n",
       "2984  41656.0       41543.0  3507.772037  3498.256523              305.804116   \n",
       "2985   2014.0        1999.0   197.622477   196.150611               20.968651   \n",
       "2990   4177.0        4150.0   189.934899   188.707165               12.411423   \n",
       "\n",
       "      UPPER_Hospitalizations DATE  \n",
       "555                13.764002       \n",
       "561                15.256911       \n",
       "578               336.409185       \n",
       "579                22.551659       \n",
       "585                60.245546       \n",
       "2953               19.057363       \n",
       "2954               24.971495       \n",
       "2959                1.800601       \n",
       "2961               28.252880       \n",
       "2962                4.715938       \n",
       "2963               75.837340       \n",
       "2964                1.881411       \n",
       "2965               81.648762       \n",
       "2974                8.256404       \n",
       "2978               12.709843       \n",
       "2984              615.078807       \n",
       "2985               39.576071       \n",
       "2990               25.138129       "
      ],
      "text/html": "<div>\n<style scoped>\n    .dataframe tbody tr th:only-of-type {\n        vertical-align: middle;\n    }\n\n    .dataframe tbody tr th {\n        vertical-align: top;\n    }\n\n    .dataframe thead th {\n        text-align: right;\n    }\n</style>\n<table border=\"1\" class=\"dataframe\">\n  <thead>\n    <tr style=\"text-align: right;\">\n      <th></th>\n      <th>FIPS</th>\n      <th>COUNTY</th>\n      <th>STATE</th>\n      <th>POP</th>\n      <th>VETS</th>\n      <th>VET_PERCENT</th>\n      <th>CASES</th>\n      <th>YESTER_CASES</th>\n      <th>VET_CASES</th>\n      <th>VET_YESTER</th>\n      <th>LOWER_Hospitalizations</th>\n      <th>UPPER_Hospitalizations</th>\n      <th>DATE</th>\n    </tr>\n  </thead>\n  <tbody>\n    <tr>\n      <th>555</th>\n      <td>16009</td>\n      <td>Benewah</td>\n      <td>Idaho</td>\n      <td>9298.0</td>\n      <td>943.092983</td>\n      <td>0.101430</td>\n      <td>667.0</td>\n      <td>666.0</td>\n      <td>67.653584</td>\n      <td>67.552154</td>\n      <td>7.342884</td>\n      <td>13.764002</td>\n      <td></td>\n    </tr>\n    <tr>\n      <th>561</th>\n      <td>16021</td>\n      <td>Boundary</td>\n      <td>Idaho</td>\n      <td>12245.0</td>\n      <td>1154.957978</td>\n      <td>0.094321</td>\n      <td>860.0</td>\n      <td>859.0</td>\n      <td>81.115873</td>\n      <td>81.021552</td>\n      <td>7.999436</td>\n      <td>15.256911</td>\n      <td></td>\n    </tr>\n    <tr>\n      <th>578</th>\n      <td>16055</td>\n      <td>Kootenai</td>\n      <td>Idaho</td>\n      <td>165697.0</td>\n      <td>14523.477635</td>\n      <td>0.087651</td>\n      <td>17673.0</td>\n      <td>17603.0</td>\n      <td>1549.052911</td>\n      <td>1542.917354</td>\n      <td>177.081902</td>\n      <td>336.409185</td>\n      <td></td>\n    </tr>\n    <tr>\n      <th>579</th>\n      <td>16057</td>\n      <td>Latah</td>\n      <td>Idaho</td>\n      <td>40108.0</td>\n      <td>2380.432927</td>\n      <td>0.059351</td>\n      <td>3080.0</td>\n      <td>3066.0</td>\n      <td>182.799776</td>\n      <td>181.968868</td>\n      <td>10.679805</td>\n      <td>22.551659</td>\n      <td></td>\n    </tr>\n    <tr>\n      <th>585</th>\n      <td>16069</td>\n      <td>Nez Perce</td>\n      <td>Idaho</td>\n      <td>40408.0</td>\n      <td>3366.307751</td>\n      <td>0.083308</td>\n      <td>3569.0</td>\n      <td>3557.0</td>\n      <td>297.326083</td>\n      <td>296.326388</td>\n      <td>31.306886</td>\n      <td>60.245546</td>\n      <td></td>\n    </tr>\n    <tr>\n      <th>2953</th>\n      <td>53001</td>\n      <td>Adams</td>\n      <td>Washington</td>\n      <td>19983.0</td>\n      <td>591.755382</td>\n      <td>0.029613</td>\n      <td>2078.0</td>\n      <td>2074.0</td>\n      <td>61.535690</td>\n      <td>61.417238</td>\n      <td>10.225011</td>\n      <td>19.057363</td>\n      <td></td>\n    </tr>\n    <tr>\n      <th>2954</th>\n      <td>53003</td>\n      <td>Asotin</td>\n      <td>Washington</td>\n      <td>22582.0</td>\n      <td>2022.624679</td>\n      <td>0.089568</td>\n      <td>1384.0</td>\n      <td>1384.0</td>\n      <td>123.962118</td>\n      <td>123.962118</td>\n      <td>13.111644</td>\n      <td>24.971495</td>\n      <td></td>\n    </tr>\n    <tr>\n      <th>2959</th>\n      <td>53013</td>\n      <td>Columbia</td>\n      <td>Washington</td>\n      <td>3985.0</td>\n      <td>376.805413</td>\n      <td>0.094556</td>\n      <td>119.0</td>\n      <td>118.0</td>\n      <td>11.252157</td>\n      <td>11.157601</td>\n      <td>0.920284</td>\n      <td>1.800601</td>\n      <td></td>\n    </tr>\n    <tr>\n      <th>2961</th>\n      <td>53017</td>\n      <td>Douglas</td>\n      <td>Washington</td>\n      <td>43429.0</td>\n      <td>2456.349558</td>\n      <td>0.056560</td>\n      <td>3588.0</td>\n      <td>3588.0</td>\n      <td>202.937719</td>\n      <td>202.937719</td>\n      <td>13.865300</td>\n      <td>28.252880</td>\n      <td></td>\n    </tr>\n    <tr>\n      <th>2962</th>\n      <td>53019</td>\n      <td>Ferry</td>\n      <td>Washington</td>\n      <td>7627.0</td>\n      <td>715.284567</td>\n      <td>0.093783</td>\n      <td>304.0</td>\n      <td>296.0</td>\n      <td>28.510097</td>\n      <td>27.759831</td>\n      <td>2.447172</td>\n      <td>4.715938</td>\n      <td></td>\n    </tr>\n    <tr>\n      <th>2963</th>\n      <td>53021</td>\n      <td>Franklin</td>\n      <td>Washington</td>\n      <td>95222.0</td>\n      <td>3390.335725</td>\n      <td>0.035605</td>\n      <td>12099.0</td>\n      <td>12061.0</td>\n      <td>430.779357</td>\n      <td>429.426384</td>\n      <td>36.929883</td>\n      <td>75.837340</td>\n      <td></td>\n    </tr>\n    <tr>\n      <th>2964</th>\n      <td>53023</td>\n      <td>Garfield</td>\n      <td>Washington</td>\n      <td>2225.0</td>\n      <td>205.927165</td>\n      <td>0.092552</td>\n      <td>120.0</td>\n      <td>120.0</td>\n      <td>11.106184</td>\n      <td>11.106184</td>\n      <td>0.960527</td>\n      <td>1.881411</td>\n      <td></td>\n    </tr>\n    <tr>\n      <th>2965</th>\n      <td>53025</td>\n      <td>Grant</td>\n      <td>Washington</td>\n      <td>97733.0</td>\n      <td>5390.074265</td>\n      <td>0.055151</td>\n      <td>9839.0</td>\n      <td>9788.0</td>\n      <td>542.630848</td>\n      <td>539.818146</td>\n      <td>40.251618</td>\n      <td>81.648762</td>\n      <td></td>\n    </tr>\n    <tr>\n      <th>2974</th>\n      <td>53043</td>\n      <td>Lincoln</td>\n      <td>Washington</td>\n      <td>10939.0</td>\n      <td>1188.592307</td>\n      <td>0.108656</td>\n      <td>452.0</td>\n      <td>443.0</td>\n      <td>49.112691</td>\n      <td>48.134783</td>\n      <td>4.206634</td>\n      <td>8.256404</td>\n      <td></td>\n    </tr>\n    <tr>\n      <th>2978</th>\n      <td>53051</td>\n      <td>Pend Oreille</td>\n      <td>Washington</td>\n      <td>13724.0</td>\n      <td>1456.576677</td>\n      <td>0.106134</td>\n      <td>713.0</td>\n      <td>708.0</td>\n      <td>75.673213</td>\n      <td>75.142545</td>\n      <td>6.642998</td>\n      <td>12.709843</td>\n      <td></td>\n    </tr>\n    <tr>\n      <th>2984</th>\n      <td>53063</td>\n      <td>Spokane</td>\n      <td>Washington</td>\n      <td>522798.0</td>\n      <td>44023.819029</td>\n      <td>0.084208</td>\n      <td>41656.0</td>\n      <td>41543.0</td>\n      <td>3507.772037</td>\n      <td>3498.256523</td>\n      <td>305.804116</td>\n      <td>615.078807</td>\n      <td></td>\n    </tr>\n    <tr>\n      <th>2985</th>\n      <td>53065</td>\n      <td>Stevens</td>\n      <td>Washington</td>\n      <td>45723.0</td>\n      <td>4486.540470</td>\n      <td>0.098124</td>\n      <td>2014.0</td>\n      <td>1999.0</td>\n      <td>197.622477</td>\n      <td>196.150611</td>\n      <td>20.968651</td>\n      <td>39.576071</td>\n      <td></td>\n    </tr>\n    <tr>\n      <th>2990</th>\n      <td>53075</td>\n      <td>Whitman</td>\n      <td>Washington</td>\n      <td>50104.0</td>\n      <td>2278.309351</td>\n      <td>0.045472</td>\n      <td>4177.0</td>\n      <td>4150.0</td>\n      <td>189.934899</td>\n      <td>188.707165</td>\n      <td>12.411423</td>\n      <td>25.138129</td>\n      <td></td>\n    </tr>\n  </tbody>\n</table>\n</div>"
     },
     "metadata": {},
     "execution_count": 99
    }
   ],
   "source": [
    "\n",
    "#DELETE THIS#\n",
    "FacilityCases"
   ]
  },
  {
   "cell_type": "code",
   "execution_count": 128,
   "metadata": {},
   "outputs": [],
   "source": [
    "#State level Pulls\n",
    "WA_Cases = CountyVACOVID[CountyVACOVID.STATE == 'Washington']['CASES'].sum()\n",
    "OR_Cases = CountyVACOVID[CountyVACOVID.STATE == 'Oregon']['CASES'].sum()\n",
    "ID_Cases = CountyVACOVID[CountyVACOVID.STATE == 'Idaho']['CASES'].sum()\n",
    "OH_Cases = CountyVACOVID[CountyVACOVID.STATE == 'Ohio']['CASES'].sum()\n",
    "OH_VACases = CountyVACOVID[CountyVACOVID.STATE == 'Ohio']['VET_CASES'].sum()\n",
    "\n",
    "#VISN level Pulls\n",
    "VISN20List = VAMC[VAMC.VISN == 20]['FIPS']\n",
    "VISN20Data = CountyVACOVID[CountyVACOVID['FIPS'].isin(VISN20List)]\n",
    "\n",
    "VISN20Cases = VISN20Data['CASES'].sum()\n",
    "VISN20_VACases = VISN20Data['VET_CASES'].sum()\n",
    "\n",
    "#Facility level Pulls\n",
    "MGFacilityList = VAMC[VAMC.VAMC == 'Mann-Grandstaff Department of Veterans Affairs Medical Center']['FIPS']\n",
    "MGFacilityData = CountyVACOVID[CountyVACOVID['FIPS'].isin(MGFacilityList)]\n",
    "\n",
    "PSFacilityList = VAMC[VAMC.VAMC == 'Seattle VA Medical Center']['FIPS']\n",
    "PSFacilityData = CountyVACOVID[CountyVACOVID['FIPS'].isin(PSFacilityList)]\n",
    "\n",
    "#Hard-coded Columbus while VAMC list is broken/missing Columbus\n",
    "ColumbusFacilityList = ['39159','39097', '39129','39049','39045','39089','39041','39117']\n",
    "#ColumbusFacilityList = VAMC[VAMC.VAMC == '']['FIPS']\n",
    "ColumbusFacilityData = CountyVACOVID[CountyVACOVID['FIPS'].isin(ColumbusFacilityList)]\n",
    "\n",
    "ClevelandFacilityList = VAMC[VAMC.VAMC == 'Louis Stokes Cleveland Department of Veterans Affairs Medical Center']['FIPS']\n",
    "ClevelandFacilityData = CountyVACOVID[CountyVACOVID['FIPS'].isin(ClevelandFacilityList)]\n",
    "\n",
    "MG_ECases = MGFacilityData['VET_CASES'].sum()\n",
    "MG_HospLower = MGFacilityData['LOWER_Hospitalizations'].sum()\n",
    "MG_HospUpper = MGFacilityData['UPPER_Hospitalizations'].sum()\n",
    "\n",
    "PS_ECases = PSFacilityData['VET_CASES'].sum()\n",
    "PS_HospLower = PSFacilityData['LOWER_Hospitalizations'].sum()\n",
    "PS_HospUpper = PSFacilityData['UPPER_Hospitalizations'].sum()\n",
    "\n",
    "Columbus_ECases = ColumbusFacilityData['VET_CASES'].sum()\n",
    "Columbus_HospLower = ColumbusFacilityData['LOWER_Hospitalizations'].sum()\n",
    "Columbus_HospUpper = ColumbusFacilityData['UPPER_Hospitalizations'].sum()\n",
    "\n",
    "Cleveland_ECases = ClevelandFacilityData['VET_CASES'].sum()\n",
    "Cleveland_HospLower = ClevelandFacilityData['LOWER_Hospitalizations'].sum()\n",
    "Cleveland_HospUpper = ClevelandFacilityData['UPPER_Hospitalizations'].sum()"
   ]
  },
  {
   "cell_type": "code",
   "execution_count": 142,
   "metadata": {},
   "outputs": [],
   "source": [
    "\n",
    "#ONLY Part of the Cycle of Additions by Date for Python File\n",
    "\n",
    "VAChart = pd.read_csv('VAChart.csv', parse_dates=['DATE'])"
   ]
  },
  {
   "cell_type": "code",
   "execution_count": 143,
   "metadata": {},
   "outputs": [],
   "source": [
    "VAChart_newrow = pd.DataFrame({ 'DATE': TodayDate,\n",
    "                           'US Cases': USCasesToday,\n",
    "                           'New US Cases': USNewCases,\n",
    "                           'VISN20 Cases': VISN20Cases,\n",
    "                           'WA Cases': WA_Cases,\n",
    "                           'OR Cases': OR_Cases,\n",
    "                           'ID Cases': ID_Cases,\n",
    "                           'VISN20 VACases': VISN20_VACases,\n",
    "                           'OH Cases': OH_Cases,\n",
    "                           'OH VACases': OH_VACases,\n",
    "                           'MG ECases': MG_ECases,\n",
    "                           'MG HospLower': MG_HospLower,\n",
    "                           'MG HospUpper': MG_HospUpper,\n",
    "                           'PS ECases': PS_ECases,\n",
    "                           'PS HospLower': PS_HospLower,\n",
    "                           'PS HospUpper': PS_HospUpper,\n",
    "                           'Columbus ECases': Columbus_ECases,\n",
    "                           'Columbus HospLower': Columbus_HospLower,\n",
    "                           'Columbus HospUpper': Columbus_HospUpper,\n",
    "                           'Cleveland ECases': Cleveland_ECases,\n",
    "                           'Cleveland HospLower': Cleveland_HospLower,\n",
    "                           'Cleveland HospUpper': Cleveland_HospUpper}, index=[0])\n",
    "\n",
    "VAChart = pd.concat([VAChart_newrow, VAChart]).reset_index(drop=True).drop_duplicates(subset='DATE',keep='first').round(2)\n",
    "\n",
    "VAChart.to_csv('VAChart.csv',index=False)"
   ]
  },
  {
   "cell_type": "code",
   "execution_count": 144,
   "metadata": {},
   "outputs": [
    {
     "output_type": "execute_result",
     "data": {
      "text/plain": [
       "VISN       int64\n",
       "VAMC      object\n",
       "FIPS      object\n",
       "COUNTY    object\n",
       "STATE     object\n",
       "dtype: object"
      ]
     },
     "metadata": {},
     "execution_count": 144
    }
   ],
   "source": [
    "VAMC.dtypes"
   ]
  },
  {
   "cell_type": "code",
   "execution_count": 6,
   "metadata": {},
   "outputs": [],
   "source": [
    "### Processing of the mega-file from CDC\n",
    "\n",
    "#CDCcovid = pd.read_csv('data_folder/COVID-19_Case_Surveillance_Public_Use_Data_with_Geography.csv', usecols=['case_month','res_state','res_county','state_fips_code',#'county_fips_code','age_group'], dtype={'state_fips_code':'str','county_fips_code':'str'}) \\\n",
    " #   .dropna(subset=['res_state','res_county','age_group']) \\\n",
    " #   .groupby(['res_state','res_county','age_group'],sort=False,as_index=False) \\\n",
    " #   .agg({'state_fips_code':'first','county_fips_code':'first','case_month':'count'}) \\\n",
    " #   .reset_index(drop=True)\n",
    "\n",
    "#CDCcovid['FIPS'] = CDCcovid.county_fips_code\n",
    "#CDCcovid = CDCcovid.drop(['state_fips_code','county_fips_code'],axis=1).rename(columns={'res_state':'STATE','res_county':'COUNTY','age_group':'AGEGROUP',#'case_month':'CASES'})\n",
    "#CDCcovid = CDCcovid.drop(CDCcovid[CDCcovid['AGEGROUP'] == 'Missing'].index).sort_values(by=['FIPS','STATE','COUNTY','AGEGROUP'])\n",
    "#CDCcovid = CDCcovid[['FIPS','COUNTY','STATE','AGEGROUP','CASES']].reset_index(drop=True)\n",
    "#CDCcovid['COUNTY'] = CDCcovid['COUNTY'].str.title()\n",
    "#CDCcovid['STATE'] = CDCcovid.apply(lambda x: stateNames(x['STATE']), axis=1)\n",
    "\n",
    "#CDCcovid.to_csv('data_folder/CDCcovid.csv', index=False)\n",
    "\n"
   ]
  },
  {
   "cell_type": "code",
   "execution_count": null,
   "metadata": {},
   "outputs": [],
   "source": []
  }
 ]
}